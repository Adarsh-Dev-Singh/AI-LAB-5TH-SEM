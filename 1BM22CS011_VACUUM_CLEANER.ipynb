{
  "cells": [
    {
      "cell_type": "code",
      "execution_count": null,
      "metadata": {
        "colab": {
          "base_uri": "https://localhost:8080/"
        },
        "id": "k682VT8vPh1h",
        "outputId": "83f32743-59d4-43b1-8b4c-b93aebcdfe84"
      },
      "outputs": [
        {
          "name": "stdout",
          "output_type": "stream",
          "text": [
            "Enter initial position (0 or 1): 0\n",
            "Current Grid State: ['Messy', 'Messy']\n",
            "🧹 Cleaned position 0!\n",
            "➡️ Moved to position 1.\n",
            "Current Grid State: ['Neat', 'Messy']\n",
            "🧹 Cleaned position 1!\n",
            "➡️ Moved to position 0.\n",
            "Current Grid State: ['Neat', 'Neat']\n",
            "✅ All positions are neat and tidy!\n"
          ]
        }
      ],
      "source": [
        "class VacuumCleanerAgent:\n",
        "    def __init__(self, initial_position):\n",
        "        self.grid = ['Messy', 'Messy']\n",
        "        self.position = initial_position\n",
        "        self.cleaned_count = 0\n",
        "\n",
        "    def print_grid(self):\n",
        "        print(\"Current Grid State:\", self.grid)\n",
        "\n",
        "    def is_clean(self):\n",
        "        return self.cleaned_count == len(self.grid)\n",
        "\n",
        "    def clean(self):\n",
        "        if self.grid[self.position] == 'Messy':\n",
        "            self.grid[self.position] = 'Neat'\n",
        "            self.cleaned_count += 1\n",
        "            print(f\"🧹 Cleaned position {self.position}!\")\n",
        "        else:\n",
        "            print(f\"🌟 Position {self.position} is already neat!\")\n",
        "\n",
        "    def move(self):\n",
        "        # Move to the next position (toggle between 0 and 1)\n",
        "        self.position = 1 - self.position  # Toggle between 0 and 1\n",
        "        print(f\"➡️ Moved to position {self.position}.\")\n",
        "\n",
        "    def run(self):\n",
        "        while not self.is_clean():\n",
        "            self.clean()\n",
        "            self.move()\n",
        "            self.print_grid()\n",
        "\n",
        "        print(\"✅ All positions are neat and tidy!\")\n",
        "\n",
        "if __name__ == \"__main__\":\n",
        "    initial_position = int(input(\"Enter initial position (0 or 1): \"))\n",
        "\n",
        "    if initial_position in [0, 1]:\n",
        "        vacuum = VacuumCleanerAgent(initial_position)\n",
        "        vacuum.print_grid()\n",
        "        vacuum.run()\n",
        "    else:\n",
        "        print(\"🚫 Invalid initial position. Please enter 0 or 1.\")\n",
        "print(\"Adarsh Dev Singh\")"
      ]
    },
    {
      "cell_type": "code",
      "execution_count": null,
      "metadata": {
        "id": "QgmNCZq7RjCJ"
      },
      "outputs": [],
      "source": []
    }
  ],
  "metadata": {
    "colab": {
      "provenance": []
    },
    "kernelspec": {
      "display_name": "Python 3",
      "name": "python3"
    },
    "language_info": {
      "name": "python"
    }
  },
  "nbformat": 4,
  "nbformat_minor": 0
}
