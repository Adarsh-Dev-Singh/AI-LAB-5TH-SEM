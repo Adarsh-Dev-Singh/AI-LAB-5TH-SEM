{
 "cells": [
  {
   "cell_type": "code",
   "execution_count": 21,
   "metadata": {
    "colab": {
     "base_uri": "https://localhost:8080/",
     "height": 0
    },
    "id": "m5seKfA7g0nV",
    "outputId": "f643ac13-9c41-4061-e945-899d176edcd0"
   },
   "outputs": [
    {
     "name": "stdout",
     "output_type": "stream",
     "text": [
      "Board: randomly generated queen positions of the board \n",
      "(0, 0) (1, 7) (2, 2) (3, 0) (4, 6) (5, 5) (6, 4) (7, 0) \n",
      "\n",
      "Solution: Successfully optimized locations for 8 Queens\n",
      "(0, 3) (1, 5) (2, 7) (3, 1) (4, 6) (5, 0) (6, 2) (7, 4) \n"
     ]
    }
   ],
   "source": [
    "import random,  math\n",
    "import decimal\n",
    "\n",
    "## functions for plotting the board\n",
    "def make_row(rowdata, col, empty, full):\n",
    "    items = [col] * (2 * len(rowdata) + 1)\n",
    "    items[1::2] = (full if d else empty for d in rowdata)\n",
    "    return ''.join(items)\n",
    "\n",
    "def make_board(board_string, col=\"|\", row=\"---\", empty=\"   \", full=\" Q \"):\n",
    "    size = len(board_string)\n",
    "    bar = make_row(board_string, col, row, row)\n",
    "    board = [bar] * (2 * size + 1)\n",
    "    board[1::2] = (make_row([i == q for i in range(size)], col, empty, full) for q in board_string)\n",
    "    return '\\n'.join(board)\n",
    "\n",
    "##board functions\n",
    "class Board:\n",
    "    def __init__(self, queen_count=8):\n",
    "        self.queen_count = queen_count\n",
    "        self.create()\n",
    "\n",
    "    def create(self):\n",
    "        self.queens = [-1 for i in range(0, self.queen_count)]\n",
    "        for i in range(0, self.queen_count):\n",
    "            self.queens[i] = random.randint(0, self.queen_count - 1)\n",
    "\n",
    "    def calculateCostWithQueens(queens):\n",
    "        hueristic_val = 0\n",
    "        queen_count = len(queens)\n",
    "        for queen in range(0, queen_count):\n",
    "            for next_queen in range(queen+1, queen_count):\n",
    "                if queens[queen] == queens[next_queen] or abs(queen - next_queen) == abs(queens[queen] - queens[next_queen]):\n",
    "                    hueristic_val += 1\n",
    "        return hueristic_val\n",
    "\n",
    "    def toString(queens):\n",
    "        board_string = \"\"\n",
    "        for row, col in enumerate(queens):\n",
    "            board_string += \"(%s, %s) \" % (row, col)\n",
    "\n",
    "        return board_string\n",
    "\n",
    "    def __str__(self):\n",
    "        board_string = \"\"\n",
    "        for row, col in enumerate(self.queens):\n",
    "            board_string += \"(%s, %s) \" % (row, col)\n",
    "        return board_string\n",
    "\n",
    "class SimulatedAnnealing:\n",
    "    def __init__(self, board):\n",
    "        self.board = board\n",
    "        self.temperature = 64\n",
    "        self.anneal_rate = 0.95\n",
    "\n",
    "    def run(self):\n",
    "        board = self.board\n",
    "        board_queens = self.board.queens[:]\n",
    "        solutionFound = False\n",
    "        for k in range(0, 150000):\n",
    "            self.temperature *= self.anneal_rate\n",
    "            board.create()\n",
    "            successor_queens = board.queens[:]\n",
    "            deltaE = Board.calculateCostWithQueens(successor_queens) - Board.calculateCostWithQueens(board_queens)\n",
    "            exp = decimal.Decimal(decimal.Decimal(math.e) ** (decimal.Decimal(-deltaE) * decimal.Decimal(self.temperature)))\n",
    "\n",
    "            if deltaE > 0 or random.uniform(0, 1) < exp:\n",
    "                board_queens = successor_queens[:]\n",
    "\n",
    "            if Board.calculateCostWithQueens(board_queens) == 0:\n",
    "                print(\"\\nSolution: Successfully optimized locations for 8 Queens\")\n",
    "                print(Board.toString(board_queens))\n",
    "                board_final = board.queens[:]\n",
    "                # print(make_board(board_final))\n",
    "                solutionFound = True\n",
    "                break\n",
    "\n",
    "        if solutionFound == False:\n",
    "            print(\"\\nSolution: Unsuccessful\")\n",
    "\n",
    "if __name__ == '__main__':\n",
    "    board = Board()\n",
    "    print(\"Board: randomly generated queen positions of the board \")\n",
    "    print(board)\n",
    "    board_position = board.queens[:]\n",
    "    # print(make_board(board_position))\n",
    "    SimulatedAnnealing(board).run()"
   ]
  }
 ],
 "metadata": {
  "colab": {
   "provenance": []
  },
  "kernelspec": {
   "display_name": "Python 3",
   "name": "python3"
  },
  "language_info": {
   "name": "python"
  }
 },
 "nbformat": 4,
 "nbformat_minor": 0
}
