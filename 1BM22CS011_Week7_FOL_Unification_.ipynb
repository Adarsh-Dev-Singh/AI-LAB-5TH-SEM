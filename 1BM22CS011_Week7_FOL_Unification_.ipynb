{
  "nbformat": 4,
  "nbformat_minor": 0,
  "metadata": {
    "colab": {
      "provenance": []
    },
    "kernelspec": {
      "name": "python3",
      "display_name": "Python 3"
    },
    "language_info": {
      "name": "python"
    }
  },
  "cells": [
    {
      "cell_type": "code",
      "execution_count": 21,
      "metadata": {
        "colab": {
          "base_uri": "https://localhost:8080/"
        },
        "id": "-B0XPqC7mxHz",
        "outputId": "7a66c172-bb4b-4e5b-bc46-9f3c43005dd9"
      },
      "outputs": [
        {
          "output_type": "stream",
          "name": "stdout",
          "text": [
            "FAILURE\n"
          ]
        }
      ],
      "source": [
        "class Unifier:\n",
        "    def is_var(self, sym):\n",
        "        \"\"\"Helper function to check if a symbol is a variable (a string).\"\"\"\n",
        "        return isinstance(sym, str) and sym.islower()\n",
        "\n",
        "    def occurs_check(self, var, term):\n",
        "        \"\"\"Checks if a variable occurs in a term (used to avoid circular dependencies).\"\"\"\n",
        "        if isinstance(term, str):\n",
        "            return term == var\n",
        "        elif isinstance(term, list):\n",
        "            return any(self.occurs_check(var, t) for t in term)\n",
        "        elif isinstance(term, tuple):\n",
        "            return any(self.occurs_check(var, t) for t in term)\n",
        "        return False\n",
        "\n",
        "    def unify_var(self, var, val, subst):\n",
        "        \"\"\"Unifies a variable with a value, handling substitution.\"\"\"\n",
        "        if var in subst:\n",
        "            return self.unify(subst[var], val, subst)  # Recurse with the substituted value\n",
        "        elif isinstance(val, str) and val in subst:\n",
        "            return self.unify(var, subst[val], subst)  # Recurse with the substituted value of val\n",
        "        elif self.occurs_check(var, val):  # Check for circular dependency\n",
        "            return False\n",
        "        else:\n",
        "            subst[var] = val  # Apply the substitution\n",
        "            return subst\n",
        "\n",
        "    def unify(self, sym1, sym2, subst):\n",
        "        \"\"\"Unifies two symbols or terms.\"\"\"\n",
        "        if subst is False:\n",
        "            return False\n",
        "\n",
        "        # Case 1: Both symbols are the same (unification is trivially successful)\n",
        "        elif isinstance(sym1, str) and isinstance(sym2, str) and sym1 == sym2:\n",
        "            return subst\n",
        "\n",
        "        # Case 2: One of the symbols is a variable\n",
        "        elif isinstance(sym1, str) and self.is_var(sym1):\n",
        "            return self.unify_var(sym1, sym2, subst)\n",
        "\n",
        "        elif isinstance(sym2, str) and self.is_var(sym2):\n",
        "            return self.unify_var(sym2, sym1, subst)\n",
        "\n",
        "        # Case 3: Both symbols are compound terms (tuples or lists)\n",
        "        elif isinstance(sym1, tuple) and isinstance(sym2, tuple):  # Predicate case\n",
        "            if len(sym1) == 0 and len(sym2) == 0:\n",
        "                return subst  # Both are empty tuples\n",
        "            if sym1[0] != sym2[0]:  # Predicate symbols (first elements) must match\n",
        "                return False\n",
        "            return self.unify(sym1[1:], sym2[1:], self.unify(sym1[0], sym2[0], subst))\n",
        "\n",
        "        elif isinstance(sym1, list) and isinstance(sym2, list):  # List case\n",
        "            if len(sym1) == 0 and len(sym2) == 0:\n",
        "                return subst  # Both are empty lists\n",
        "            return self.unify(sym1[1:], sym2[1:], self.unify(sym1[0], sym2[0], subst))\n",
        "\n",
        "        # If no cases match, return failure\n",
        "        else:\n",
        "            return False\n",
        "\n",
        "# Example usage:\n",
        "unifier = Unifier()\n",
        "\n",
        "ψ1 = ['f', 'x', 'x']\n",
        "ψ2 = ['f', 'Z', 'f(Z)']\n",
        "substitution = unifier.unify(ψ1, ψ2, {})\n",
        "\n",
        "if substitution is False:\n",
        "    print(\"FAILURE\")\n",
        "else:\n",
        "    print(\"Substitution:\", substitution)\n"
      ]
    }
  ]
}