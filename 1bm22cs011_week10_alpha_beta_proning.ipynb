{
  "nbformat": 4,
  "nbformat_minor": 0,
  "metadata": {
    "colab": {
      "provenance": []
    },
    "kernelspec": {
      "name": "python3",
      "display_name": "Python 3"
    },
    "language_info": {
      "name": "python"
    }
  },
  "cells": [
    {
      "cell_type": "code",
      "source": [
        "# Initial values of Alpha and Beta\n",
        "MAX, MIN = 10000000, -100000000\n",
        "\n",
        "# Defining the minimax function that returns the optimal value for the current player\n",
        "def minimax(depth, index, maximizingPlayer, values, alpha, beta):\n",
        "    # Terminating condition (when the maximum depth is reached)\n",
        "    if depth == 3:\n",
        "        print(f\"Returning value {values[index]} at depth {depth} for index {index}\")\n",
        "        return values[index]\n",
        "\n",
        "    if maximizingPlayer:\n",
        "        optimum = MIN  # Initialize optimum for MAX player\n",
        "\n",
        "        # Recursion for left and right children\n",
        "        for i in range(0, 2):  # 2 children for each node\n",
        "            val = minimax(depth + 1, index * 2 + i, False, values, alpha, beta)  # Left and right children\n",
        "            optimum = max(optimum, val)\n",
        "            alpha = max(alpha, optimum)\n",
        "\n",
        "            # Alpha Beta Pruning condition\n",
        "            if beta <= alpha:\n",
        "                print(f\"Pruning at depth {depth} for index {index} with alpha={alpha}, beta={beta}\")\n",
        "                break  # Prune the search\n",
        "\n",
        "        print(f\"Returning optimum value {optimum} at depth {depth} for index {index}\")\n",
        "        return optimum\n",
        "    else:\n",
        "        optimum = MAX  # Initialize optimum for MIN player\n",
        "\n",
        "        # Recursion for left and right children\n",
        "        for i in range(0, 2):  # 2 children for each node\n",
        "            val = minimax(depth + 1, index * 2 + i, True, values, alpha, beta)  # Left and right children\n",
        "            optimum = min(optimum, val)\n",
        "            beta = min(beta, optimum)\n",
        "\n",
        "            # Alpha Beta Pruning\n",
        "            if beta <= alpha:\n",
        "                print(f\"Pruning at depth {depth} for index {index} with alpha={alpha}, beta={beta}\")\n",
        "                break  # Prune the search\n",
        "\n",
        "        print(f\"Returning optimum value {optimum} at depth {depth} for index {index}\")\n",
        "        return optimum\n",
        "\n",
        "# Driver Code\n",
        "if __name__ == \"__main__\":\n",
        "    values = [5, 7, 12, 6, 3, 18, -9, 4]  # Terminal node values (leaf nodes)\n",
        "    print(\"The value is:\", minimax(0, 0, True, values, MIN, MAX))  # Start the minimax traversal\n"
      ],
      "metadata": {
        "id": "PH_10QPMnEU8"
      },
      "execution_count": null,
      "outputs": []
    }
  ]
}