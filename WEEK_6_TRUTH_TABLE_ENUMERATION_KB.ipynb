{
 "cells": [
  {
   "cell_type": "code",
   "execution_count": 10,
   "metadata": {
    "colab": {
     "base_uri": "https://localhost:8080/",
     "height": 0
    },
    "id": "_iANMDrLpNT7",
    "outputId": "f15fbbe9-81f0-4b8e-e35e-90f586df7ead"
   },
   "outputs": [
    {
     "name": "stdout",
     "output_type": "stream",
     "text": [
      " Q   |  P   |  R   |  Q -> P |  P -> ¬Q |  Q ∨ R |  R -> P |  Q -> R | KB\n",
      "--------------------------------------------------------------------------\n",
      " 0   |  0   |  0   |    1   |    1   |    0   |    1   |    1   |        0\n",
      " 0   |  0   |  1   |    1   |    1   |    1   |    0   |    1   |        1\n",
      " 0   |  1   |  0   |    1   |    1   |    0   |    1   |    1   |        0\n",
      " 0   |  1   |  1   |    1   |    1   |    1   |    1   |    1   |        1\n",
      " 1   |  0   |  0   |    0   |    1   |    1   |    1   |    0   |        0\n",
      " 1   |  0   |  1   |    0   |    1   |    1   |    0   |    1   |        0\n",
      " 1   |  1   |  0   |    1   |    0   |    1   |    1   |    0   |        0\n",
      " 1   |  1   |  1   |    1   |    0   |    1   |    1   |    1   |        0\n",
      "\n",
      "Final Entailment Results:\n",
      "Does KB entail R? YES\n",
      "Does KB entail R -> P? NO\n",
      "Does KB entail Q -> R? YES\n"
     ]
    }
   ],
   "source": [
    "\n",
    "def implies(q, p):\n",
    "    return not q or p\n",
    "\n",
    "def implies_neg(q, p):\n",
    "    return not p or not q\n",
    "\n",
    "\n",
    "def or_operator(q, r):\n",
    "    return q or r\n",
    "\n",
    "def r_implies_p(r, p):\n",
    "    return not r or p\n",
    "\n",
    "\n",
    "def q_implies_r(q, r):\n",
    "    return not q or r\n",
    "\n",
    "def generate_truth_table_and_check_entailments():\n",
    "    print(\" Q   |  P   |  R   |  Q -> P |  P -> ¬Q |  Q ∨ R |  R -> P |  Q -> R | KB\")\n",
    "    print(\"--------------------------------------------------------------------------\")\n",
    "\n",
    "\n",
    "    entail_r = True\n",
    "    entail_r_implies_p = True\n",
    "    entail_q_implies_r = True\n",
    "\n",
    "    for q in [False, True]:\n",
    "        for p in [False, True]:\n",
    "            for r in [False, True]:\n",
    "\n",
    "                q_implies_p = implies(q, p)\n",
    "                p_implies_neg_q = implies_neg(q, p)\n",
    "                q_or_r = or_operator(q, r)\n",
    "\n",
    "\n",
    "                r_implies_p_formula = r_implies_p(r, p)\n",
    "                q_implies_r_formula = q_implies_r(q, r)\n",
    "\n",
    "\n",
    "                kb_consistent = (q_implies_p and p_implies_neg_q and q_or_r)\n",
    "\n",
    "\n",
    "                if kb_consistent:\n",
    "\n",
    "                    entail_r = entail_r and r\n",
    "\n",
    "                    entail_r_implies_p = entail_r_implies_p and r_implies_p_formula\n",
    "\n",
    "                    entail_q_implies_r = entail_q_implies_r and q_implies_r_formula\n",
    "\n",
    "                print(f\" {int(q)}   |  {int(p)}   |  {int(r)}   |    {int(q_implies_p)}   |    {int(p_implies_neg_q)}   |    {int(q_or_r)}   |    {int(r_implies_p_formula)}   |    {int(q_implies_r_formula)}   |        {int(kb_consistent)}\")\n",
    "\n",
    "    print(\"\\nFinal Entailment Results:\")\n",
    "    print(f\"Does KB entail R? {'YES' if entail_r else 'NO'}\")\n",
    "    print(f\"Does KB entail R -> P? {'YES' if entail_r_implies_p else 'NO'}\")\n",
    "    print(f\"Does KB entail Q -> R? {'YES' if entail_q_implies_r else 'NO'}\")\n",
    "\n",
    "\n",
    "generate_truth_table_and_check_entailments()\n"
   ]
  }
 ],
 "metadata": {
  "colab": {
   "provenance": []
  },
  "kernelspec": {
   "display_name": "Python 3",
   "name": "python3"
  },
  "language_info": {
   "name": "python"
  }
 },
 "nbformat": 4,
 "nbformat_minor": 0
}
